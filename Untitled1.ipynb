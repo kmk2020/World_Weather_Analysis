{
 "cells": [
  {
   "cell_type": "code",
   "execution_count": 15,
   "id": "5809f73a",
   "metadata": {},
   "outputs": [],
   "source": [
    "def fruits(self,number,color):\n",
    "    \n",
    "    fruits.number=number\n",
    "    \n",
    "    fruits.color=color\n",
    "    \n",
    "      \n",
    "    color = \"yellow\"\n",
    "    \n",
    "    number=10\n",
    "    \n",
    "    fruits.color\n",
    "\n",
    "\n",
    "    \n",
    "    \n",
    "    \n"
   ]
  },
  {
   "cell_type": "code",
   "execution_count": 7,
   "id": "1e9eba83",
   "metadata": {},
   "outputs": [],
   "source": [
    "    color = \"yellow\"\n",
    "    number=10"
   ]
  },
  {
   "cell_type": "code",
   "execution_count": 9,
   "id": "48d48a8a",
   "metadata": {},
   "outputs": [
    {
     "ename": "AttributeError",
     "evalue": "'function' object has no attribute 'color'",
     "output_type": "error",
     "traceback": [
      "\u001b[1;31m---------------------------------------------------------------------------\u001b[0m",
      "\u001b[1;31mAttributeError\u001b[0m                            Traceback (most recent call last)",
      "\u001b[1;32m~\\AppData\\Local\\Temp/ipykernel_18756/2196590812.py\u001b[0m in \u001b[0;36m<module>\u001b[1;34m\u001b[0m\n\u001b[1;32m----> 1\u001b[1;33m \u001b[0mfruits\u001b[0m\u001b[1;33m.\u001b[0m\u001b[0mcolor\u001b[0m\u001b[1;33m\u001b[0m\u001b[1;33m\u001b[0m\u001b[0m\n\u001b[0m",
      "\u001b[1;31mAttributeError\u001b[0m: 'function' object has no attribute 'color'"
     ]
    }
   ],
   "source": [
    "    fruits.color"
   ]
  },
  {
   "cell_type": "code",
   "execution_count": null,
   "id": "a553117f",
   "metadata": {},
   "outputs": [],
   "source": []
  }
 ],
 "metadata": {
  "kernelspec": {
   "display_name": "Python 3 (ipykernel)",
   "language": "python",
   "name": "python3"
  },
  "language_info": {
   "codemirror_mode": {
    "name": "ipython",
    "version": 3
   },
   "file_extension": ".py",
   "mimetype": "text/x-python",
   "name": "python",
   "nbconvert_exporter": "python",
   "pygments_lexer": "ipython3",
   "version": "3.9.7"
  }
 },
 "nbformat": 4,
 "nbformat_minor": 5
}
